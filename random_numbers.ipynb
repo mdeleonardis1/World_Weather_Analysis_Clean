{
 "cells": [
  {
   "cell_type": "code",
   "execution_count": 38,
   "id": "62dfe338",
   "metadata": {},
   "outputs": [],
   "source": [
    "# Import the random module.\n",
    "import random\n",
    "import numpy as np"
   ]
  },
  {
   "cell_type": "code",
   "execution_count": 4,
   "id": "80d7054d",
   "metadata": {},
   "outputs": [
    {
     "data": {
      "text/plain": [
       "-20"
      ]
     },
     "execution_count": 4,
     "metadata": {},
     "output_type": "execute_result"
    }
   ],
   "source": [
    "random.randint(-90, 90)\n"
   ]
  },
  {
   "cell_type": "code",
   "execution_count": 6,
   "id": "98132757",
   "metadata": {},
   "outputs": [
    {
     "data": {
      "text/plain": [
       "0.06589077082907024"
      ]
     },
     "execution_count": 6,
     "metadata": {},
     "output_type": "execute_result"
    }
   ],
   "source": [
    "random.random()"
   ]
  },
  {
   "cell_type": "code",
   "execution_count": 8,
   "id": "a21741f9",
   "metadata": {},
   "outputs": [
    {
     "data": {
      "text/plain": [
       "87.24787744902595"
      ]
     },
     "execution_count": 8,
     "metadata": {},
     "output_type": "execute_result"
    }
   ],
   "source": [
    "random_number = random.randint(-90,89) + random.random()\n",
    "random_number"
   ]
  },
  {
   "cell_type": "code",
   "execution_count": 13,
   "id": "9451b28b",
   "metadata": {},
   "outputs": [],
   "source": [
    "x = 0\n",
    "latidues = []\n",
    "\n",
    "while x <10:\n",
    "    random_lat = random.randint(-90,89) + random.random()\n",
    "    latidues.append(random_lat)\n",
    "    x +=1 \n"
   ]
  },
  {
   "cell_type": "code",
   "execution_count": 14,
   "id": "1f7c0fda",
   "metadata": {},
   "outputs": [
    {
     "data": {
      "text/plain": [
       "[-22.466047863523766,\n",
       " 78.54388907575611,\n",
       " -9.228600062365166,\n",
       " 35.80151463482983,\n",
       " -61.47980421382672,\n",
       " 42.08030115710464,\n",
       " 35.81040875264033,\n",
       " 12.834422265537887,\n",
       " 63.554078480612034,\n",
       " 45.992487226252045]"
      ]
     },
     "execution_count": 14,
     "metadata": {},
     "output_type": "execute_result"
    }
   ],
   "source": [
    "latidues"
   ]
  },
  {
   "cell_type": "code",
   "execution_count": 35,
   "id": "2c3135a6",
   "metadata": {},
   "outputs": [
    {
     "data": {
      "text/plain": [
       "-47"
      ]
     },
     "execution_count": 35,
     "metadata": {},
     "output_type": "execute_result"
    }
   ],
   "source": [
    "random.randrange(-90, 90, step=1)"
   ]
  },
  {
   "cell_type": "code",
   "execution_count": 39,
   "id": "a7293352",
   "metadata": {},
   "outputs": [
    {
     "data": {
      "text/plain": [
       "-55.456955405703745"
      ]
     },
     "execution_count": 39,
     "metadata": {},
     "output_type": "execute_result"
    }
   ],
   "source": [
    "np.random.uniform(-90.000, 90.000)"
   ]
  },
  {
   "cell_type": "code",
   "execution_count": 42,
   "id": "5db8df18",
   "metadata": {},
   "outputs": [
    {
     "data": {
      "text/plain": [
       "array([ 61.03386957,   4.76441746,   6.28703584,  18.34898788,\n",
       "       -76.24960502,  22.25125195, -83.51313494, -86.64425059,\n",
       "        47.73088428, -84.28569544, -25.25387478,  24.01966726,\n",
       "        85.283444  , -54.92780935, -42.39013858,  68.53689143,\n",
       "         4.35904996,  51.75142522,  37.10127397, -20.38005025,\n",
       "        -5.16338622,  14.29304131, -29.00978107, -65.2525429 ,\n",
       "        85.13850233,  38.49902707,  45.60160979,  63.66061825,\n",
       "        31.79268148, -53.70431593, -47.92389419, -42.25424273,\n",
       "       -63.37366904,  10.43913456,  59.79184009, -54.37247504,\n",
       "         5.50515519, -43.54255508, -74.61831965, -33.40291705,\n",
       "       -45.12762411, -61.31974723, -31.49513245,  79.4664854 ,\n",
       "       -67.5220245 ,  85.81497558, -84.72350625, -58.35925513,\n",
       "        78.48772141,  -5.74943227])"
      ]
     },
     "execution_count": 42,
     "metadata": {},
     "output_type": "execute_result"
    }
   ],
   "source": [
    "np.random.uniform(-90.000, 90.000, size=50)"
   ]
  },
  {
   "cell_type": "code",
   "execution_count": 43,
   "id": "dfab19d2",
   "metadata": {},
   "outputs": [],
   "source": [
    "# Import timeit.\n",
    "import timeit"
   ]
  }
 ],
 "metadata": {
  "kernelspec": {
   "display_name": "PythonData",
   "language": "python",
   "name": "pythondata"
  },
  "language_info": {
   "codemirror_mode": {
    "name": "ipython",
    "version": 3
   },
   "file_extension": ".py",
   "mimetype": "text/x-python",
   "name": "python",
   "nbconvert_exporter": "python",
   "pygments_lexer": "ipython3",
   "version": "3.8.13"
  }
 },
 "nbformat": 4,
 "nbformat_minor": 5
}
